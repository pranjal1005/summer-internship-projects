{
  "nbformat": 4,
  "nbformat_minor": 0,
  "metadata": {
    "colab": {
      "provenance": [],
      "authorship_tag": "ABX9TyOKhuA23sY8EtjD64L1aOMg",
      "include_colab_link": true
    },
    "kernelspec": {
      "name": "python3",
      "display_name": "Python 3"
    },
    "language_info": {
      "name": "python"
    }
  },
  "cells": [
    {
      "cell_type": "markdown",
      "metadata": {
        "id": "view-in-github",
        "colab_type": "text"
      },
      "source": [
        "<a href=\"https://colab.research.google.com/github/pranjal1005/summer-internship-projects/blob/main/trainingday10.ipynb\" target=\"_parent\"><img src=\"https://colab.research.google.com/assets/colab-badge.svg\" alt=\"Open In Colab\"/></a>"
      ]
    },
    {
      "cell_type": "code",
      "execution_count": null,
      "metadata": {
        "colab": {
          "base_uri": "https://localhost:8080/"
        },
        "id": "T3-x42pLL_xl",
        "outputId": "b8f229b9-56ec-4ba6-948d-d5a46c5f2f56"
      },
      "outputs": [
        {
          "output_type": "stream",
          "name": "stdout",
          "text": [
            "x:10, y:20, z:30\n",
            "x:20, y:10, z:30\n",
            "x:10, y:20, z:30\n",
            "x:10, y:20, z:100\n"
          ]
        }
      ],
      "source": [
        "# types of arguement\n",
        "def func(x,y,z=100):\n",
        "  print(f\"x:{x}, y:{y}, z:{z}\")\n",
        "\n",
        "func(10,20,30) #position arguement\n",
        "func(20,10,30)\n",
        "func(y=20 , x=10 , z=30) #keyword arguement\n",
        "func(y=20,x=10) #default"
      ]
    },
    {
      "cell_type": "code",
      "source": [
        "def func(x):\n",
        "  print(x+50)\n",
        "  return 100\n",
        "# return keyword is useful to take back the value from the functions and use it later on by program\n",
        "\n",
        "out = func(10)\n",
        "print(\"out=>\",out)\n"
      ],
      "metadata": {
        "colab": {
          "base_uri": "https://localhost:8080/"
        },
        "id": "OqcsVimGNMJR",
        "outputId": "3a774588-c707-449b-cfc0-2a6b1c88723f"
      },
      "execution_count": null,
      "outputs": [
        {
          "output_type": "stream",
          "name": "stdout",
          "text": [
            "60\n",
            "out=> 100\n"
          ]
        }
      ]
    },
    {
      "cell_type": "code",
      "source": [
        "y = lambda num: num+5\n",
        "y(10)"
      ],
      "metadata": {
        "colab": {
          "base_uri": "https://localhost:8080/"
        },
        "id": "vSCh9vsAOwtS",
        "outputId": "d54e49dc-306a-4b09-c1ff-ab7f9a7c3337"
      },
      "execution_count": null,
      "outputs": [
        {
          "output_type": "execute_result",
          "data": {
            "text/plain": [
              "15"
            ]
          },
          "metadata": {},
          "execution_count": 6
        }
      ]
    },
    {
      "cell_type": "code",
      "source": [
        "list ( map (len, [\"hey\",\"hello\"] )  )"
      ],
      "metadata": {
        "colab": {
          "base_uri": "https://localhost:8080/"
        },
        "id": "wI0q9dhSQiKQ",
        "outputId": "e1ce68cb-d702-4758-fdda-893276954d2f"
      },
      "execution_count": null,
      "outputs": [
        {
          "output_type": "execute_result",
          "data": {
            "text/plain": [
              "[3, 5]"
            ]
          },
          "metadata": {},
          "execution_count": 7
        }
      ]
    },
    {
      "cell_type": "code",
      "source": [
        "tuple ( map (len, [\"hey\",\"hello\"] )  )"
      ],
      "metadata": {
        "colab": {
          "base_uri": "https://localhost:8080/"
        },
        "id": "sUSXKxdqRwz2",
        "outputId": "fa4482d1-5869-4ec3-dffb-a1055f8e5cdf"
      },
      "execution_count": null,
      "outputs": [
        {
          "output_type": "execute_result",
          "data": {
            "text/plain": [
              "(3, 5)"
            ]
          },
          "metadata": {},
          "execution_count": 9
        }
      ]
    },
    {
      "cell_type": "code",
      "source": [
        "list( map (lambda x:x*x, [10,5,2,4] ) )"
      ],
      "metadata": {
        "colab": {
          "base_uri": "https://localhost:8080/"
        },
        "id": "DM7Dxlb5Rzk8",
        "outputId": "4746ceb1-54a6-4cb8-f738-1765c4bcc4d4"
      },
      "execution_count": null,
      "outputs": [
        {
          "output_type": "execute_result",
          "data": {
            "text/plain": [
              "[100, 25, 4, 16]"
            ]
          },
          "metadata": {},
          "execution_count": 10
        }
      ]
    },
    {
      "cell_type": "code",
      "source": [
        "list( filter (lambda x: x%2==0, [10,5,2,4] ) )"
      ],
      "metadata": {
        "colab": {
          "base_uri": "https://localhost:8080/"
        },
        "id": "OdVJX152TLR4",
        "outputId": "cfcda44a-929c-4a04-d57a-994d8dfab2be"
      },
      "execution_count": null,
      "outputs": [
        {
          "output_type": "execute_result",
          "data": {
            "text/plain": [
              "[10, 2, 4]"
            ]
          },
          "metadata": {},
          "execution_count": 11
        }
      ]
    },
    {
      "cell_type": "code",
      "source": [
        "list( map (lambda x:x%2==0 , [10,5,2,4] ) )"
      ],
      "metadata": {
        "colab": {
          "base_uri": "https://localhost:8080/"
        },
        "id": "DtYPRpR-TZuP",
        "outputId": "dcd666ad-6a03-4103-dfbc-f18b21ba79f5"
      },
      "execution_count": null,
      "outputs": [
        {
          "output_type": "execute_result",
          "data": {
            "text/plain": [
              "[True, False, True, True]"
            ]
          },
          "metadata": {},
          "execution_count": 12
        }
      ]
    },
    {
      "cell_type": "code",
      "source": [],
      "metadata": {
        "id": "rVvg3CUnTz9C"
      },
      "execution_count": null,
      "outputs": []
    }
  ]
}