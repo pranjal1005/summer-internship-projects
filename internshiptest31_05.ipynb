{
  "nbformat": 4,
  "nbformat_minor": 0,
  "metadata": {
    "colab": {
      "provenance": [],
      "gpuType": "T4",
      "authorship_tag": "ABX9TyNOeypAobX6ceNTf38jGe4m",
      "include_colab_link": true
    },
    "kernelspec": {
      "name": "python3",
      "display_name": "Python 3"
    },
    "language_info": {
      "name": "python"
    }
  },
  "cells": [
    {
      "cell_type": "markdown",
      "metadata": {
        "id": "view-in-github",
        "colab_type": "text"
      },
      "source": [
        "<a href=\"https://colab.research.google.com/github/pranjal1005/summer-internship-projects/blob/main/internshiptest31_05.ipynb\" target=\"_parent\"><img src=\"https://colab.research.google.com/assets/colab-badge.svg\" alt=\"Open In Colab\"/></a>"
      ]
    },
    {
      "cell_type": "code",
      "source": [
        "x = int(input(\"enter the number: \"))\n",
        "sum = 0\n",
        "\n",
        "while x:\n",
        "  sum += x%10\n",
        "  x  //= 10\n",
        "\n",
        "print(\"sum of numbers: \", sum)"
      ],
      "metadata": {
        "id": "Spo26PTbhNdT",
        "colab": {
          "base_uri": "https://localhost:8080/"
        },
        "outputId": "d4fbe63b-5841-4c4e-95d7-dc1672d14f3d"
      },
      "execution_count": null,
      "outputs": [
        {
          "output_type": "stream",
          "name": "stdout",
          "text": [
            "enter the number: 43332\n",
            "sum of numbers:  15\n"
          ]
        }
      ]
    },
    {
      "cell_type": "code",
      "source": [
        "x = input(\"enter the string: \")\n",
        "count =  0\n",
        "\n",
        "for char in x:\n",
        "  if char in 'aeiouAEIOU':\n",
        "    count += 1\n",
        "\n",
        "print(\"number of vowels: \", count)"
      ],
      "metadata": {
        "id": "-Ewt8loOhpJl",
        "colab": {
          "base_uri": "https://localhost:8080/"
        },
        "outputId": "ae8fb196-554c-47d7-97e1-97e8c97075e8"
      },
      "execution_count": null,
      "outputs": [
        {
          "output_type": "stream",
          "name": "stdout",
          "text": [
            "enter the string: abcdef\n",
            "number of vowels:  2\n"
          ]
        }
      ]
    },
    {
      "cell_type": "code",
      "source": [
        "x = input(\"enter a string: \")\n",
        "\n",
        "if x[:len(x)//2] == x[len(x)//2:]:\n",
        "  print(\"output is symmetrical\")\n",
        "else:\n",
        "  print(\"output is not symmetrical\")"
      ],
      "metadata": {
        "colab": {
          "base_uri": "https://localhost:8080/"
        },
        "id": "L_Ka5puLkqTa",
        "outputId": "9e2f8f73-d61d-4b04-c47d-7fb0a2b8bef1"
      },
      "execution_count": null,
      "outputs": [
        {
          "output_type": "stream",
          "name": "stdout",
          "text": [
            "enter a string: regex\n",
            "output is not symmetrical\n"
          ]
        }
      ]
    },
    {
      "cell_type": "code",
      "source": [
        "x = input(\"enter a number: \")\n",
        "n = len(x)\n",
        "sum = 0\n",
        "\n",
        "for digit in x:\n",
        "  sum += int(digit) ** n\n",
        "\n",
        "if sum == int(x):\n",
        "  print(\"armstrong number\")\n",
        "else:\n",
        "  print(\"not armstrong number\")"
      ],
      "metadata": {
        "colab": {
          "base_uri": "https://localhost:8080/"
        },
        "id": "zpMCPZ70lXwP",
        "outputId": "7ae25dc8-54e3-4ea2-e49e-9f325aabd38c"
      },
      "execution_count": null,
      "outputs": [
        {
          "output_type": "stream",
          "name": "stdout",
          "text": [
            "enter a number: 153\n",
            "armstrong number\n"
          ]
        }
      ]
    },
    {
      "cell_type": "code",
      "source": [
        "# using loop\n",
        "x = int(input(\"enter the number: \"))\n",
        "temp = x\n",
        "\n",
        "count = 0\n",
        "while temp > 0:\n",
        "  temp //= 10\n",
        "  count +=1\n",
        "\n",
        "temp = x\n",
        "sum = 0\n",
        "while temp > 0:\n",
        "  digit = temp % 10\n",
        "  sum += digit ** count\n",
        "  temp //= 10\n",
        "\n",
        "if sum == x:\n",
        "  print(\"armstrong(narcissistic) number\")\n",
        "else:\n",
        "  print(\"not armstrong(narcissistic) number\")"
      ],
      "metadata": {
        "colab": {
          "base_uri": "https://localhost:8080/"
        },
        "id": "Gl5OvM8hmwRW",
        "outputId": "4a83ab9a-3433-44ec-e5ed-e4d377ab9959"
      },
      "execution_count": null,
      "outputs": [
        {
          "output_type": "stream",
          "name": "stdout",
          "text": [
            "enter the number: 153\n",
            "armstrong(narcissistic) number\n"
          ]
        }
      ]
    },
    {
      "cell_type": "code",
      "source": [
        "for i in range(1,5):\n",
        "  print(\"#\"* i)\n",
        "\n",
        "for i in range(3,0,-1):\n",
        "  print(\"#\"*i)"
      ],
      "metadata": {
        "colab": {
          "base_uri": "https://localhost:8080/"
        },
        "id": "rXkVOKgdnx2n",
        "outputId": "54269446-7086-414d-ddf5-7ed8e5033897"
      },
      "execution_count": null,
      "outputs": [
        {
          "output_type": "stream",
          "name": "stdout",
          "text": [
            "#\n",
            "##\n",
            "###\n",
            "####\n",
            "###\n",
            "##\n",
            "#\n"
          ]
        }
      ]
    }
  ]
}