{
  "nbformat": 4,
  "nbformat_minor": 0,
  "metadata": {
    "colab": {
      "provenance": [],
      "authorship_tag": "ABX9TyOj05k2HvvTY+kcAZennYLp",
      "include_colab_link": true
    },
    "kernelspec": {
      "name": "python3",
      "display_name": "Python 3"
    },
    "language_info": {
      "name": "python"
    }
  },
  "cells": [
    {
      "cell_type": "markdown",
      "metadata": {
        "id": "view-in-github",
        "colab_type": "text"
      },
      "source": [
        "<a href=\"https://colab.research.google.com/github/pranjal1005/summer-internship-projects/blob/main/trainingday8.ipynb\" target=\"_parent\"><img src=\"https://colab.research.google.com/assets/colab-badge.svg\" alt=\"Open In Colab\"/></a>"
      ]
    },
    {
      "cell_type": "code",
      "execution_count": null,
      "metadata": {
        "colab": {
          "base_uri": "https://localhost:8080/",
          "height": 211
        },
        "id": "TJS6BuTO3oJT",
        "outputId": "1cfca13b-249f-47a9-f1ad-bf3dfa8dc234"
      },
      "outputs": [
        {
          "output_type": "error",
          "ename": "NameError",
          "evalue": "name 'mylist' is not defined",
          "traceback": [
            "\u001b[0;31m---------------------------------------------------------------------------\u001b[0m",
            "\u001b[0;31mNameError\u001b[0m                                 Traceback (most recent call last)",
            "\u001b[0;32m<ipython-input-2-8ea76c3fc86e>\u001b[0m in \u001b[0;36m<cell line: 0>\u001b[0;34m()\u001b[0m\n\u001b[0;32m----> 1\u001b[0;31m \u001b[0mmylist\u001b[0m \u001b[0;34m[\u001b[0m\u001b[0;36m10\u001b[0m\u001b[0;34m,\u001b[0m\u001b[0;36m20\u001b[0m\u001b[0;34m,\u001b[0m\u001b[0;36m30\u001b[0m\u001b[0;34m,\u001b[0m\u001b[0;36m40\u001b[0m\u001b[0;34m,\u001b[0m\u001b[0;36m1\u001b[0m\u001b[0;34m,\u001b[0m\u001b[0;36m7\u001b[0m\u001b[0;34m,\u001b[0m\u001b[0;36m33\u001b[0m\u001b[0;34m,\u001b[0m\u001b[0;36m2\u001b[0m\u001b[0;34m,\u001b[0m\u001b[0;36m8\u001b[0m\u001b[0;34m,\u001b[0m\u001b[0;36m12\u001b[0m\u001b[0;34m]\u001b[0m\u001b[0;34m\u001b[0m\u001b[0;34m\u001b[0m\u001b[0m\n\u001b[0m\u001b[1;32m      2\u001b[0m \u001b[0;32mfor\u001b[0m \u001b[0mi\u001b[0m \u001b[0;32min\u001b[0m \u001b[0mrange\u001b[0m\u001b[0;34m(\u001b[0m\u001b[0;36m0\u001b[0m\u001b[0;34m,\u001b[0m \u001b[0mlen\u001b[0m\u001b[0;34m(\u001b[0m\u001b[0mmylist\u001b[0m\u001b[0;34m)\u001b[0m \u001b[0;34m)\u001b[0m\u001b[0;34m:\u001b[0m\u001b[0;34m\u001b[0m\u001b[0;34m\u001b[0m\u001b[0m\n\u001b[1;32m      3\u001b[0m \u001b[0;34m\u001b[0m\u001b[0m\n\u001b[1;32m      4\u001b[0m   \u001b[0;32mfor\u001b[0m \u001b[0mj\u001b[0m \u001b[0;32min\u001b[0m \u001b[0mrange\u001b[0m\u001b[0;34m(\u001b[0m\u001b[0mi\u001b[0m\u001b[0;34m+\u001b[0m\u001b[0;36m1\u001b[0m\u001b[0;34m,\u001b[0m  \u001b[0mlen\u001b[0m\u001b[0;34m(\u001b[0m\u001b[0mmystyle\u001b[0m\u001b[0;34m)\u001b[0m \u001b[0;34m)\u001b[0m\u001b[0;34m:\u001b[0m\u001b[0;34m\u001b[0m\u001b[0;34m\u001b[0m\u001b[0m\n\u001b[1;32m      5\u001b[0m     \u001b[0;32mif\u001b[0m\u001b[0;34m(\u001b[0m\u001b[0mmylist\u001b[0m\u001b[0;34m[\u001b[0m\u001b[0mi\u001b[0m\u001b[0;34m]\u001b[0m \u001b[0;34m+\u001b[0m \u001b[0mmylist\u001b[0m\u001b[0;34m[\u001b[0m\u001b[0mj\u001b[0m\u001b[0;34m]\u001b[0m \u001b[0;34m==\u001b[0m \u001b[0;36m9\u001b[0m \u001b[0;34m)\u001b[0m\u001b[0;34m:\u001b[0m\u001b[0;34m\u001b[0m\u001b[0;34m\u001b[0m\u001b[0m\n",
            "\u001b[0;31mNameError\u001b[0m: name 'mylist' is not defined"
          ]
        }
      ],
      "source": [
        "mylist [10,20,30,40,1,7,33,2,8,12]\n",
        "for i in range(0, len(mylist) ):\n",
        "\n",
        "  for j in range(i+1,  len(mystyle) ):\n",
        "    if(mylist[i] + mylist[j] == 9 ):\n",
        "      print(\"sum of two value => \", mylist[i] , mylist[j])\n"
      ]
    },
    {
      "cell_type": "code",
      "source": [
        "mytuple = (10,20,30,\"abc\",10,50)\n",
        "mytuple.count(10)\n",
        "mytuple.index(\"abc\")\n"
      ],
      "metadata": {
        "colab": {
          "base_uri": "https://localhost:8080/"
        },
        "id": "J_-gZvUZ8DZo",
        "outputId": "62477634-659f-4735-e8d7-170c8081e303"
      },
      "execution_count": null,
      "outputs": [
        {
          "output_type": "execute_result",
          "data": {
            "text/plain": [
              "3"
            ]
          },
          "metadata": {},
          "execution_count": 3
        }
      ]
    },
    {
      "cell_type": "code",
      "source": [
        "for i in range(1,4):\n",
        "  print(\"student\",i)\n",
        "\n",
        "  for j in range(1,6):\n",
        "    print(\"sub :\",j ,end=\" \")\n",
        "  print(\"##### TEA BREAK #####\")\n"
      ],
      "metadata": {
        "colab": {
          "base_uri": "https://localhost:8080/"
        },
        "id": "H2_4DV0X8TsK",
        "outputId": "e04160a8-ebca-4c88-90c1-ce6d0a902f39"
      },
      "execution_count": null,
      "outputs": [
        {
          "output_type": "stream",
          "name": "stdout",
          "text": [
            "student 1\n",
            "sub : 1 sub : 2 sub : 3 sub : 4 sub : 5 ##### TEA BREAK #####\n",
            "student 2\n",
            "sub : 1 sub : 2 sub : 3 sub : 4 sub : 5 ##### TEA BREAK #####\n",
            "student 3\n",
            "sub : 1 sub : 2 sub : 3 sub : 4 sub : 5 ##### TEA BREAK #####\n"
          ]
        }
      ]
    },
    {
      "cell_type": "code",
      "source": [
        "for i in range(1,4):\n",
        "    print(\"student\", i )\n",
        "    for j in range(1,i+1):\n",
        "        print(\"good morning \", j)\n"
      ],
      "metadata": {
        "colab": {
          "base_uri": "https://localhost:8080/"
        },
        "id": "GMtNKOhf_EIN",
        "outputId": "88628bbf-f0c6-4f32-e86d-31dd554a8e32"
      },
      "execution_count": null,
      "outputs": [
        {
          "output_type": "stream",
          "name": "stdout",
          "text": [
            "student 1\n",
            "good morning  1\n",
            "student 2\n",
            "good morning  1\n",
            "good morning  2\n",
            "student 3\n",
            "good morning  1\n",
            "good morning  2\n",
            "good morning  3\n"
          ]
        }
      ]
    },
    {
      "cell_type": "code",
      "source": [
        "for i in range(1,4):\n",
        "  print(\"student\",i)\n",
        "\n",
        "  for j in range(1,i+1):\n",
        "    print(\"sub :\",j ,end= \" \")\n",
        "  print(\"##### TEA BREAK #####\")"
      ],
      "metadata": {
        "colab": {
          "base_uri": "https://localhost:8080/"
        },
        "id": "OuZ04Wbk-fdV",
        "outputId": "cf167c82-e96f-4743-9e44-57e0c561e174"
      },
      "execution_count": null,
      "outputs": [
        {
          "output_type": "stream",
          "name": "stdout",
          "text": [
            "student 1\n",
            "sub : 1 ##### TEA BREAK #####\n",
            "student 2\n",
            "sub : 1 sub : 2 ##### TEA BREAK #####\n",
            "student 3\n",
            "sub : 1 sub : 2 sub : 3 ##### TEA BREAK #####\n"
          ]
        }
      ]
    },
    {
      "cell_type": "code",
      "source": [
        "for i in range(1,4):\n",
        "  print(\"student\",i)\n",
        "\n",
        "  for j in range(1,5-i):\n",
        "    print(\"sub :\",j ,end= \" \")\n",
        "  print(\"##### TEA BREAK #####\")"
      ],
      "metadata": {
        "colab": {
          "base_uri": "https://localhost:8080/"
        },
        "id": "h0RLqpVJASar",
        "outputId": "84b44776-42af-456c-a308-15aa20162041"
      },
      "execution_count": null,
      "outputs": [
        {
          "output_type": "stream",
          "name": "stdout",
          "text": [
            "student 1\n",
            "sub : 1 sub : 2 sub : 3 ##### TEA BREAK #####\n",
            "student 2\n",
            "sub : 1 sub : 2 ##### TEA BREAK #####\n",
            "student 3\n",
            "sub : 1 ##### TEA BREAK #####\n"
          ]
        }
      ]
    },
    {
      "cell_type": "code",
      "source": [
        "for i in range(1,5):\n",
        "\n",
        "  for j in range(1,i+1):\n",
        "    print(\"*\", end= \" \")\n",
        "  print(\" \")"
      ],
      "metadata": {
        "colab": {
          "base_uri": "https://localhost:8080/"
        },
        "id": "kEvkx1GiAtvj",
        "outputId": "86348123-d4cf-4a5b-9e63-d9fbc1994b52"
      },
      "execution_count": null,
      "outputs": [
        {
          "output_type": "stream",
          "name": "stdout",
          "text": [
            "*  \n",
            "* *  \n",
            "* * *  \n",
            "* * * *  \n"
          ]
        }
      ]
    },
    {
      "cell_type": "code",
      "source": [
        "for i in range(1,4):\n",
        "  print(str(i) * 4)"
      ],
      "metadata": {
        "colab": {
          "base_uri": "https://localhost:8080/"
        },
        "id": "Fk0TSe2QBlPp",
        "outputId": "5929c701-782e-43c5-d73f-4b5ce75b1e72"
      },
      "execution_count": null,
      "outputs": [
        {
          "output_type": "stream",
          "name": "stdout",
          "text": [
            "1111\n",
            "2222\n",
            "3333\n"
          ]
        }
      ]
    },
    {
      "cell_type": "code",
      "source": [
        "for i in range(4,9,2):\n",
        "  print(str(i) * 4)"
      ],
      "metadata": {
        "colab": {
          "base_uri": "https://localhost:8080/"
        },
        "id": "wQ1B9CKRCHAN",
        "outputId": "f94fc5c4-7c65-4549-a728-635981e4588c"
      },
      "execution_count": null,
      "outputs": [
        {
          "output_type": "stream",
          "name": "stdout",
          "text": [
            "4444\n",
            "6666\n",
            "8888\n"
          ]
        }
      ]
    },
    {
      "cell_type": "code",
      "source": [],
      "metadata": {
        "id": "H0M8BUNwC3wi"
      },
      "execution_count": null,
      "outputs": []
    },
    {
      "cell_type": "code",
      "source": [
        "for i in range(3):\n",
        "  print(\"1234\")"
      ],
      "metadata": {
        "colab": {
          "base_uri": "https://localhost:8080/"
        },
        "id": "3W27Ui6XCw0K",
        "outputId": "1a06ae02-6188-4043-a0b7-96707b7ca343"
      },
      "execution_count": null,
      "outputs": [
        {
          "output_type": "stream",
          "name": "stdout",
          "text": [
            "1234\n",
            "1234\n",
            "1234\n"
          ]
        }
      ]
    },
    {
      "cell_type": "code",
      "source": [
        "for i in range(4):\n",
        "  print(\"4567\")\n"
      ],
      "metadata": {
        "colab": {
          "base_uri": "https://localhost:8080/"
        },
        "id": "Ju5knunjDPdr",
        "outputId": "e9db2261-b373-461e-aea5-1b03aeccce9e"
      },
      "execution_count": null,
      "outputs": [
        {
          "output_type": "stream",
          "name": "stdout",
          "text": [
            "4567\n",
            "4567\n",
            "4567\n",
            "4567\n"
          ]
        }
      ]
    },
    {
      "cell_type": "code",
      "source": [
        "for i in range(3):\n",
        "  print(\"ABC\")"
      ],
      "metadata": {
        "colab": {
          "base_uri": "https://localhost:8080/"
        },
        "id": "jwz-mP7IDWCm",
        "outputId": "15d1eac4-0a8b-4937-80c4-5d4dd725d547"
      },
      "execution_count": null,
      "outputs": [
        {
          "output_type": "stream",
          "name": "stdout",
          "text": [
            "ABC\n",
            "ABC\n",
            "ABC\n"
          ]
        }
      ]
    },
    {
      "cell_type": "code",
      "source": [
        "num = 1\n",
        "for i in range(1,10,4):\n",
        "  for j in range(1,5):\n",
        "    print(num, end=\" \")\n",
        "    num += 1\n",
        "  print(\" \")"
      ],
      "metadata": {
        "colab": {
          "base_uri": "https://localhost:8080/"
        },
        "id": "wDWVtLy_DfFp",
        "outputId": "6cc71100-1950-42a0-8aa4-3acb28dcf556"
      },
      "execution_count": null,
      "outputs": [
        {
          "output_type": "stream",
          "name": "stdout",
          "text": [
            "1 2 3 4  \n",
            "5 6 7 8  \n",
            "9 10 11 12  \n"
          ]
        }
      ]
    },
    {
      "cell_type": "code",
      "source": [
        "x = 65\n",
        "for i in range(65,71,1):\n",
        "\n",
        "  for j in range(65,i+1):\n",
        "    print(x , end=\" \")\n",
        "    x += 1\n",
        "  print(\" \")"
      ],
      "metadata": {
        "colab": {
          "base_uri": "https://localhost:8080/"
        },
        "id": "qZBWit0jHjRc",
        "outputId": "e65ce423-d84d-4b61-bd31-fec5cfe91fc4"
      },
      "execution_count": null,
      "outputs": [
        {
          "output_type": "stream",
          "name": "stdout",
          "text": [
            "65  \n",
            "66 67  \n",
            "68 69 70  \n",
            "71 72 73 74  \n",
            "75 76 77 78 79  \n",
            "80 81 82 83 84 85  \n"
          ]
        }
      ]
    },
    {
      "cell_type": "code",
      "source": [
        "for i in range(1,5):\n",
        "\n",
        "  for j in range(1,i+1):\n",
        "    print(\"*\", end= \" \")\n",
        "  print(\" \")"
      ],
      "metadata": {
        "colab": {
          "base_uri": "https://localhost:8080/"
        },
        "id": "Mor7dr3DEoWp",
        "outputId": "9d26a4cb-a1d3-4fac-9712-124f5f2c2fb7"
      },
      "execution_count": null,
      "outputs": [
        {
          "output_type": "stream",
          "name": "stdout",
          "text": [
            "*  \n",
            "* *  \n",
            "* * *  \n",
            "* * * *  \n"
          ]
        }
      ]
    },
    {
      "cell_type": "code",
      "source": [
        "for i in range(1,5,1):\n",
        "\n",
        "  for j in range(1,i+1):\n",
        "    print(j , end =\" \")\n",
        "  print(\" \")"
      ],
      "metadata": {
        "colab": {
          "base_uri": "https://localhost:8080/"
        },
        "id": "gPD_rFTmFLCV",
        "outputId": "7f2c9e4e-7f1a-44d2-ebb4-19cc1e7b095f"
      },
      "execution_count": null,
      "outputs": [
        {
          "output_type": "stream",
          "name": "stdout",
          "text": [
            "1  \n",
            "1 2  \n",
            "1 2 3  \n",
            "1 2 3 4  \n"
          ]
        }
      ]
    },
    {
      "cell_type": "code",
      "source": [
        "for i in range(4,8,1):\n",
        "\n",
        "  for j in range(4,i+1):\n",
        "    print(j , end =\" \")\n",
        "  print(\" \")"
      ],
      "metadata": {
        "colab": {
          "base_uri": "https://localhost:8080/"
        },
        "id": "tscCkMiMGHAz",
        "outputId": "6d92ec53-736b-4a4f-d24e-eb5e937f4548"
      },
      "execution_count": null,
      "outputs": [
        {
          "output_type": "stream",
          "name": "stdout",
          "text": [
            "4  \n",
            "4 5  \n",
            "4 5 6  \n",
            "4 5 6 7  \n"
          ]
        }
      ]
    },
    {
      "cell_type": "code",
      "source": [
        "x = 65\n",
        "for i in range(65,71,1):\n",
        "\n",
        "  for j in range(65,i+1):\n",
        "    print(x , end=\" \")\n",
        "    x += 1\n",
        "  print(\" \")"
      ],
      "metadata": {
        "colab": {
          "base_uri": "https://localhost:8080/"
        },
        "id": "6GMt1NXjGT-n",
        "outputId": "68b768f9-237c-4182-9028-7bc879bb9dab"
      },
      "execution_count": null,
      "outputs": [
        {
          "output_type": "stream",
          "name": "stdout",
          "text": [
            "65  \n",
            "66 67  \n",
            "68 69 70  \n",
            "71 72 73 74  \n",
            "75 76 77 78 79  \n",
            "80 81 82 83 84 85  \n"
          ]
        }
      ]
    },
    {
      "cell_type": "code",
      "source": [
        "for i in range(1,5):\n",
        "\n",
        "  for j in range(1,5-i):\n",
        "    print(\"-\", end=\" \")\n",
        "\n",
        "  for j in range(1 , i+1):\n",
        "    print(\"*\", end=\" \")\n",
        "\n",
        "  print(\" \")"
      ],
      "metadata": {
        "colab": {
          "base_uri": "https://localhost:8080/"
        },
        "id": "wbPjlEq1IM-V",
        "outputId": "c265bbdd-8237-4102-f7ab-3773f0c58300"
      },
      "execution_count": null,
      "outputs": [
        {
          "output_type": "stream",
          "name": "stdout",
          "text": [
            "- - - *  \n",
            "- - * *  \n",
            "- * * *  \n",
            "* * * *  \n"
          ]
        }
      ]
    },
    {
      "cell_type": "code",
      "source": [
        "for i in range(1,6):\n",
        "\n",
        "  for j in range(1,i+1):\n",
        "    print(\"*\", end=\" \")\n",
        "\n",
        "  for j in range(1 , 6-i):\n",
        "    print(\"-\", end=\" \")\n",
        "\n",
        "  print(\" \")"
      ],
      "metadata": {
        "colab": {
          "base_uri": "https://localhost:8080/"
        },
        "id": "3dm-AVl8I4R7",
        "outputId": "2d4cb482-227e-4786-a6b9-052fac917366"
      },
      "execution_count": null,
      "outputs": [
        {
          "output_type": "stream",
          "name": "stdout",
          "text": [
            "* - - - -  \n",
            "* * - - -  \n",
            "* * * - -  \n",
            "* * * * -  \n",
            "* * * * *  \n"
          ]
        }
      ]
    },
    {
      "cell_type": "code",
      "source": [
        "x = 1\n",
        "for i in range(1,5):\n",
        "\n",
        "   for j in range(i):\n",
        "    print(str(j%2), end= \"\")\n",
        "\n",
        "   print(\" \")"
      ],
      "metadata": {
        "colab": {
          "base_uri": "https://localhost:8080/"
        },
        "id": "MWAosy4HKFy6",
        "outputId": "43e8f31f-d475-4511-9ef7-b5765a14c544"
      },
      "execution_count": null,
      "outputs": [
        {
          "output_type": "stream",
          "name": "stdout",
          "text": [
            "0 \n",
            "01 \n",
            "010 \n",
            "0101 \n"
          ]
        }
      ]
    },
    {
      "cell_type": "code",
      "source": [
        "x = 4\n",
        "\n",
        "for i in range( x ):\n",
        "    print(\" \" * i + \"****\")\n"
      ],
      "metadata": {
        "colab": {
          "base_uri": "https://localhost:8080/"
        },
        "id": "fZY-maofOTAv",
        "outputId": "9af012a7-b511-43ed-d5e4-52fe4f82cacb"
      },
      "execution_count": null,
      "outputs": [
        {
          "output_type": "stream",
          "name": "stdout",
          "text": [
            "****\n",
            " ****\n",
            "  ****\n",
            "   ****\n"
          ]
        }
      ]
    },
    {
      "cell_type": "code",
      "source": [
        "x = \"ABCDE\"\n",
        "\n",
        "for i in range(5):\n",
        "  print(x[4-i:])"
      ],
      "metadata": {
        "colab": {
          "base_uri": "https://localhost:8080/"
        },
        "id": "gmzFksvPRfML",
        "outputId": "d824a18d-504e-43a7-e8de-076f4a7abbf2"
      },
      "execution_count": null,
      "outputs": [
        {
          "output_type": "stream",
          "name": "stdout",
          "text": [
            "E\n",
            "DE\n",
            "CDE\n",
            "BCDE\n",
            "ABCDE\n"
          ]
        }
      ]
    },
    {
      "cell_type": "code",
      "source": [
        "for i in range(5):\n",
        "    ch = 'E'\n",
        "    for j in range(i + 1):\n",
        "        print(chr(ord(ch) - i + j), end=\"\")\n",
        "    print()\n",
        "\n"
      ],
      "metadata": {
        "id": "BCVYWc38S2y6",
        "outputId": "d5467f8e-f4b9-4b85-ade7-18f4146aeef0",
        "colab": {
          "base_uri": "https://localhost:8080/"
        }
      },
      "execution_count": null,
      "outputs": [
        {
          "output_type": "stream",
          "name": "stdout",
          "text": [
            "E\n",
            "DE\n",
            "CDE\n",
            "BCDE\n",
            "ABCDE\n"
          ]
        }
      ]
    }
  ]
}