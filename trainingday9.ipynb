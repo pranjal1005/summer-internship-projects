{
  "nbformat": 4,
  "nbformat_minor": 0,
  "metadata": {
    "colab": {
      "provenance": [],
      "authorship_tag": "ABX9TyO890gWCHxQuGLh03qfBHD+",
      "include_colab_link": true
    },
    "kernelspec": {
      "name": "python3",
      "display_name": "Python 3"
    },
    "language_info": {
      "name": "python"
    }
  },
  "cells": [
    {
      "cell_type": "markdown",
      "metadata": {
        "id": "view-in-github",
        "colab_type": "text"
      },
      "source": [
        "<a href=\"https://colab.research.google.com/github/pranjal1005/summer-internship-projects/blob/main/trainingday9.ipynb\" target=\"_parent\"><img src=\"https://colab.research.google.com/assets/colab-badge.svg\" alt=\"Open In Colab\"/></a>"
      ]
    },
    {
      "cell_type": "code",
      "execution_count": null,
      "metadata": {
        "colab": {
          "base_uri": "https://localhost:8080/"
        },
        "id": "EAizUejRBoDi",
        "outputId": "cf0d3038-3e57-448b-b1c0-6ce51d06035f"
      },
      "outputs": [
        {
          "output_type": "stream",
          "name": "stdout",
          "text": [
            "pranjal\n"
          ]
        }
      ],
      "source": [
        "mydictionary = {10:\"pranjal\", 20:\"yash\"}\n",
        "mydictionary[20] =\"harshit\"\n",
        "mydictionary[\"amount\"]= 1000\n",
        "print(mydictionary[10])"
      ]
    },
    {
      "cell_type": "code",
      "source": [
        "mydictionary = {10:\"pranjal\", 20:\"yash\"}\n",
        "mydictionary[20] =\"harshit\"\n",
        "mydictionary[\"amount\"]= 1000\n",
        "print(mydictionary[10])"
      ],
      "metadata": {
        "colab": {
          "base_uri": "https://localhost:8080/"
        },
        "id": "c0edut2ADRJ1",
        "outputId": "d7eefd6c-aa7c-4edc-d4f5-295e4afa1db6"
      },
      "execution_count": null,
      "outputs": [
        {
          "output_type": "stream",
          "name": "stdout",
          "text": [
            "{10: 'pranjal', 20: 'harshit', 'amount': 1000}\n"
          ]
        }
      ]
    },
    {
      "cell_type": "code",
      "source": [
        "mydictionary = {10:\"pranjal\", 20:\"yash\"}\n",
        "mydictionary[20] =\"harshit\"\n",
        "mydictionary[\"amount\"]= 1000\n",
        "print(mydictionary)\n",
        "\n",
        "mydictionary.pop(20)\n",
        "print(mydictionary)"
      ],
      "metadata": {
        "colab": {
          "base_uri": "https://localhost:8080/"
        },
        "id": "dgY5Lo5bDTKK",
        "outputId": "dcbfe887-967f-4958-b920-5e472e5af57b"
      },
      "execution_count": null,
      "outputs": [
        {
          "output_type": "stream",
          "name": "stdout",
          "text": [
            "{10: 'pranjal', 20: 'harshit', 'amount': 1000}\n",
            "{10: 'pranjal', 'amount': 1000}\n"
          ]
        }
      ]
    },
    {
      "cell_type": "code",
      "source": [
        "print(help(mydictionary))"
      ],
      "metadata": {
        "colab": {
          "base_uri": "https://localhost:8080/"
        },
        "id": "5jtYvn8NDogU",
        "outputId": "135da662-6a0e-4b49-9dd3-7363082e3d8a"
      },
      "execution_count": null,
      "outputs": [
        {
          "output_type": "stream",
          "name": "stdout",
          "text": [
            "Help on dict object:\n",
            "\n",
            "class dict(object)\n",
            " |  dict() -> new empty dictionary\n",
            " |  dict(mapping) -> new dictionary initialized from a mapping object's\n",
            " |      (key, value) pairs\n",
            " |  dict(iterable) -> new dictionary initialized as if via:\n",
            " |      d = {}\n",
            " |      for k, v in iterable:\n",
            " |          d[k] = v\n",
            " |  dict(**kwargs) -> new dictionary initialized with the name=value pairs\n",
            " |      in the keyword argument list.  For example:  dict(one=1, two=2)\n",
            " |  \n",
            " |  Built-in subclasses:\n",
            " |      StgDict\n",
            " |  \n",
            " |  Methods defined here:\n",
            " |  \n",
            " |  __contains__(self, key, /)\n",
            " |      True if the dictionary has the specified key, else False.\n",
            " |  \n",
            " |  __delitem__(self, key, /)\n",
            " |      Delete self[key].\n",
            " |  \n",
            " |  __eq__(self, value, /)\n",
            " |      Return self==value.\n",
            " |  \n",
            " |  __ge__(self, value, /)\n",
            " |      Return self>=value.\n",
            " |  \n",
            " |  __getattribute__(self, name, /)\n",
            " |      Return getattr(self, name).\n",
            " |  \n",
            " |  __getitem__(...)\n",
            " |      x.__getitem__(y) <==> x[y]\n",
            " |  \n",
            " |  __gt__(self, value, /)\n",
            " |      Return self>value.\n",
            " |  \n",
            " |  __init__(self, /, *args, **kwargs)\n",
            " |      Initialize self.  See help(type(self)) for accurate signature.\n",
            " |  \n",
            " |  __ior__(self, value, /)\n",
            " |      Return self|=value.\n",
            " |  \n",
            " |  __iter__(self, /)\n",
            " |      Implement iter(self).\n",
            " |  \n",
            " |  __le__(self, value, /)\n",
            " |      Return self<=value.\n",
            " |  \n",
            " |  __len__(self, /)\n",
            " |      Return len(self).\n",
            " |  \n",
            " |  __lt__(self, value, /)\n",
            " |      Return self<value.\n",
            " |  \n",
            " |  __ne__(self, value, /)\n",
            " |      Return self!=value.\n",
            " |  \n",
            " |  __or__(self, value, /)\n",
            " |      Return self|value.\n",
            " |  \n",
            " |  __repr__(self, /)\n",
            " |      Return repr(self).\n",
            " |  \n",
            " |  __reversed__(self, /)\n",
            " |      Return a reverse iterator over the dict keys.\n",
            " |  \n",
            " |  __ror__(self, value, /)\n",
            " |      Return value|self.\n",
            " |  \n",
            " |  __setitem__(self, key, value, /)\n",
            " |      Set self[key] to value.\n",
            " |  \n",
            " |  __sizeof__(...)\n",
            " |      D.__sizeof__() -> size of D in memory, in bytes\n",
            " |  \n",
            " |  clear(...)\n",
            " |      D.clear() -> None.  Remove all items from D.\n",
            " |  \n",
            " |  copy(...)\n",
            " |      D.copy() -> a shallow copy of D\n",
            " |  \n",
            " |  get(self, key, default=None, /)\n",
            " |      Return the value for key if key is in the dictionary, else default.\n",
            " |  \n",
            " |  items(...)\n",
            " |      D.items() -> a set-like object providing a view on D's items\n",
            " |  \n",
            " |  keys(...)\n",
            " |      D.keys() -> a set-like object providing a view on D's keys\n",
            " |  \n",
            " |  pop(...)\n",
            " |      D.pop(k[,d]) -> v, remove specified key and return the corresponding value.\n",
            " |      \n",
            " |      If the key is not found, return the default if given; otherwise,\n",
            " |      raise a KeyError.\n",
            " |  \n",
            " |  popitem(self, /)\n",
            " |      Remove and return a (key, value) pair as a 2-tuple.\n",
            " |      \n",
            " |      Pairs are returned in LIFO (last-in, first-out) order.\n",
            " |      Raises KeyError if the dict is empty.\n",
            " |  \n",
            " |  setdefault(self, key, default=None, /)\n",
            " |      Insert key with a value of default if key is not in the dictionary.\n",
            " |      \n",
            " |      Return the value for key if key is in the dictionary, else default.\n",
            " |  \n",
            " |  update(...)\n",
            " |      D.update([E, ]**F) -> None.  Update D from dict/iterable E and F.\n",
            " |      If E is present and has a .keys() method, then does:  for k in E: D[k] = E[k]\n",
            " |      If E is present and lacks a .keys() method, then does:  for k, v in E: D[k] = v\n",
            " |      In either case, this is followed by: for k in F:  D[k] = F[k]\n",
            " |  \n",
            " |  values(...)\n",
            " |      D.values() -> an object providing a view on D's values\n",
            " |  \n",
            " |  ----------------------------------------------------------------------\n",
            " |  Class methods defined here:\n",
            " |  \n",
            " |  __class_getitem__(...)\n",
            " |      See PEP 585\n",
            " |  \n",
            " |  fromkeys(iterable, value=None, /)\n",
            " |      Create a new dictionary with keys from iterable and values set to value.\n",
            " |  \n",
            " |  ----------------------------------------------------------------------\n",
            " |  Static methods defined here:\n",
            " |  \n",
            " |  __new__(*args, **kwargs)\n",
            " |      Create and return a new object.  See help(type) for accurate signature.\n",
            " |  \n",
            " |  ----------------------------------------------------------------------\n",
            " |  Data and other attributes defined here:\n",
            " |  \n",
            " |  __hash__ = None\n",
            "\n",
            "None\n"
          ]
        }
      ]
    },
    {
      "cell_type": "code",
      "source": [
        "mydictionary = {10: 'pranjal', 20: 'harshit', 'amount': 1000}\n",
        "mydictionary.keys()"
      ],
      "metadata": {
        "colab": {
          "base_uri": "https://localhost:8080/"
        },
        "id": "MIfn-TdxDw9I",
        "outputId": "46c6b400-b3a6-49f7-8bbd-a1a8778562b5"
      },
      "execution_count": null,
      "outputs": [
        {
          "output_type": "execute_result",
          "data": {
            "text/plain": [
              "dict_keys([10, 20, 'amount'])"
            ]
          },
          "metadata": {},
          "execution_count": 20
        }
      ]
    },
    {
      "cell_type": "code",
      "source": [
        "mydictionary = {10: 'pranjal', 20: 'harshit', 'amount': 1000}\n",
        "mydictionary.values()"
      ],
      "metadata": {
        "colab": {
          "base_uri": "https://localhost:8080/"
        },
        "id": "HLS0E4uxEZ7K",
        "outputId": "6bba898a-131a-4285-a080-628e8682c671"
      },
      "execution_count": null,
      "outputs": [
        {
          "output_type": "execute_result",
          "data": {
            "text/plain": [
              "dict_values(['pranjal', 'harshit', 1000])"
            ]
          },
          "metadata": {},
          "execution_count": 19
        }
      ]
    },
    {
      "cell_type": "code",
      "source": [
        "data=\"hello\"\n",
        "count = 0\n",
        "for char in data:\n",
        "  count +=1\n",
        "  mydictionary ={\"total\":count}\n",
        "  print(mydictionary)"
      ],
      "metadata": {
        "colab": {
          "base_uri": "https://localhost:8080/"
        },
        "id": "hHg5LH1AEdkh",
        "outputId": "09a51aa9-42e4-4325-b811-40ab26a890f6"
      },
      "execution_count": null,
      "outputs": [
        {
          "output_type": "stream",
          "name": "stdout",
          "text": [
            "{'total': 1}\n",
            "{'total': 2}\n",
            "{'total': 3}\n",
            "{'total': 4}\n",
            "{'total': 5}\n"
          ]
        }
      ]
    },
    {
      "cell_type": "code",
      "source": [
        "data = \"user\"\n",
        "mydictionary={}\n",
        "for char in data:\n",
        "  mydictionary[char]=1\n",
        "print(mydictionary)"
      ],
      "metadata": {
        "colab": {
          "base_uri": "https://localhost:8080/"
        },
        "id": "uWgdBt9KFPzm",
        "outputId": "46de49ab-8b87-4d6d-ffed-5de32eb30bf3"
      },
      "execution_count": null,
      "outputs": [
        {
          "output_type": "stream",
          "name": "stdout",
          "text": [
            "{'u': 1, 's': 1, 'e': 1, 'r': 1}\n"
          ]
        }
      ]
    },
    {
      "cell_type": "code",
      "source": [
        "data=\"hey isha\"\n",
        "mydictionary={}\n",
        "for char in data:\n",
        "  if char in \"aeiou\":\n",
        "    mydictionary[char]=1\n",
        "print(mydictionary)"
      ],
      "metadata": {
        "colab": {
          "base_uri": "https://localhost:8080/"
        },
        "id": "zAdxzRCYGqqm",
        "outputId": "25cd5bb0-92dd-48ea-9607-42d256ed328b"
      },
      "execution_count": null,
      "outputs": [
        {
          "output_type": "stream",
          "name": "stdout",
          "text": [
            "{'e': 1, 'i': 1, 'a': 1}\n"
          ]
        }
      ]
    },
    {
      "cell_type": "code",
      "source": [
        "data=\"hey ishaeea\"\n",
        "mydictionary={}\n",
        "for char in data:\n",
        "  if char in \"aeiou\":\n",
        "    mydictionary[char] =1\n",
        "print(mydictionary)"
      ],
      "metadata": {
        "colab": {
          "base_uri": "https://localhost:8080/"
        },
        "id": "31d4g3akIPzA",
        "outputId": "96a219d5-ce44-4c80-bc10-d1ab88afa1fe"
      },
      "execution_count": null,
      "outputs": [
        {
          "output_type": "stream",
          "name": "stdout",
          "text": [
            "{'e': 1, 'i': 1, 'a': 1}\n"
          ]
        }
      ]
    },
    {
      "cell_type": "code",
      "source": [
        "mydictionary={\"amount\":15}\n",
        "mydictionary[\"amount\"] = mydictionary[\"amount\"]+200\n",
        "print(mydictionary)"
      ],
      "metadata": {
        "colab": {
          "base_uri": "https://localhost:8080/"
        },
        "id": "8evV00O3IZzI",
        "outputId": "54714d69-cf2a-40cb-9de1-7528e191ba1d"
      },
      "execution_count": null,
      "outputs": [
        {
          "output_type": "stream",
          "name": "stdout",
          "text": [
            "{'amount': 215}\n"
          ]
        }
      ]
    },
    {
      "cell_type": "code",
      "source": [
        "data=\"hey ishaeea\"\n",
        "mydictionary={}\n",
        "count = 0\n",
        "for char in data:\n",
        "  if char in \"aeiou\":\n",
        "    if char not in mydictionary:\n",
        "     mydictionary[char] =1\n",
        "    else:\n",
        "     mydictionary[char]= mydictionary[char]+1\n",
        "\n",
        "print(mydictionary)"
      ],
      "metadata": {
        "colab": {
          "base_uri": "https://localhost:8080/"
        },
        "id": "t4l8Ujs9JQwq",
        "outputId": "a7ad38dd-1f5e-40d2-c271-50a25278bd60"
      },
      "execution_count": null,
      "outputs": [
        {
          "output_type": "stream",
          "name": "stdout",
          "text": [
            "{'e': 3, 'i': 1, 'a': 2}\n"
          ]
        }
      ]
    },
    {
      "cell_type": "code",
      "source": [
        "newlist = []\n",
        "for i in [10,20,30,40,50]:\n",
        "  newlist.append(i+5)\n",
        "print(newlist)"
      ],
      "metadata": {
        "colab": {
          "base_uri": "https://localhost:8080/"
        },
        "id": "UisZ3yW4Lkqn",
        "outputId": "710e9284-9b53-4359-9720-b3ea9f1c7abb"
      },
      "execution_count": null,
      "outputs": [
        {
          "output_type": "stream",
          "name": "stdout",
          "text": [
            "[15, 25, 35, 45, 55]\n"
          ]
        }
      ]
    },
    {
      "cell_type": "code",
      "source": [
        "[i+5 for i in [10,20,30,40,50] ] #list comprehension"
      ],
      "metadata": {
        "colab": {
          "base_uri": "https://localhost:8080/"
        },
        "id": "Ak5Bpa9mMV_c",
        "outputId": "46ef0a35-4b51-4960-8e19-4121e82e4597"
      },
      "execution_count": null,
      "outputs": [
        {
          "output_type": "execute_result",
          "data": {
            "text/plain": [
              "[15, 25, 35, 45, 55]"
            ]
          },
          "metadata": {},
          "execution_count": 54
        }
      ]
    },
    {
      "cell_type": "code",
      "source": [
        "{char:1 for char in \"hello\"} #dictionary comprehension"
      ],
      "metadata": {
        "colab": {
          "base_uri": "https://localhost:8080/"
        },
        "id": "L5kZ00vgMcRw",
        "outputId": "556af7e4-0562-44bf-c86a-527df890e043"
      },
      "execution_count": null,
      "outputs": [
        {
          "output_type": "execute_result",
          "data": {
            "text/plain": [
              "{'h': 1, 'e': 1, 'l': 1, 'o': 1}"
            ]
          },
          "metadata": {},
          "execution_count": 56
        }
      ]
    },
    {
      "cell_type": "code",
      "source": [
        "a = 100\n",
        "def test():\n",
        "  z = 19\n",
        "  print(\"hello\", z , a)\n",
        "\n",
        "test()\n",
        "test()\n",
        "print(a)\n"
      ],
      "metadata": {
        "colab": {
          "base_uri": "https://localhost:8080/"
        },
        "id": "h-z_mKYWM4nL",
        "outputId": "732084ea-1afb-4a74-e9a8-271c914c64fc"
      },
      "execution_count": null,
      "outputs": [
        {
          "output_type": "stream",
          "name": "stdout",
          "text": [
            "hello 19 100\n",
            "hello 19 100\n",
            "100\n"
          ]
        }
      ]
    },
    {
      "cell_type": "code",
      "source": [
        "def msg(username ): #parameter\n",
        "  print(\"hey user\", username)\n",
        "\n",
        "msg(\"pranjal\") #arguement\n",
        "msg(\"harshit\")"
      ],
      "metadata": {
        "colab": {
          "base_uri": "https://localhost:8080/"
        },
        "id": "YigsF013PrZn",
        "outputId": "ba9da635-a43e-4c18-b2cb-f4bb60614e6c"
      },
      "execution_count": null,
      "outputs": [
        {
          "output_type": "stream",
          "name": "stdout",
          "text": [
            "hey user pranjal\n",
            "hey user harshit\n"
          ]
        }
      ]
    },
    {
      "cell_type": "code",
      "source": [
        "num = 20\n",
        "total = 0\n",
        "for i in range(1,num+1):\n",
        "  total = total+i\n",
        "print(f\"sum of {num} is => \", total)"
      ],
      "metadata": {
        "colab": {
          "base_uri": "https://localhost:8080/"
        },
        "id": "XsNWh-24QC7w",
        "outputId": "8a2be43f-1079-4d77-c225-d50462739ae5"
      },
      "execution_count": null,
      "outputs": [
        {
          "output_type": "stream",
          "name": "stdout",
          "text": [
            "sum of 20 is =>  210\n"
          ]
        }
      ]
    },
    {
      "cell_type": "code",
      "source": [
        "def totalSum(num) :\n",
        "  total = 0\n",
        "  for i in range(1,num+1):\n",
        "    total = total+i\n",
        "  print(f\"sum of {num} is => \", total)\n",
        "\n",
        "\n",
        "totalSum(10)\n",
        "totalSum(5)"
      ],
      "metadata": {
        "colab": {
          "base_uri": "https://localhost:8080/"
        },
        "id": "1bbDIMc-Q_B7",
        "outputId": "36c4df83-20f4-4c89-a8d9-6f31687a09c5"
      },
      "execution_count": null,
      "outputs": [
        {
          "output_type": "stream",
          "name": "stdout",
          "text": [
            "sum of 10 is =>  55\n",
            "sum of 5 is =>  15\n"
          ]
        }
      ]
    },
    {
      "cell_type": "code",
      "source": [
        "num = 5\n",
        "for i in range(1,num):\n",
        "  for j in range(1,i):\n",
        "\n",
        "    print(\"-\",end=\" \")\n",
        "\n",
        "  for j in range(1,num-i +1 ):\n",
        "\n",
        "    print(j, end=\" \")\n",
        "  print()\n",
        "\n"
      ],
      "metadata": {
        "colab": {
          "base_uri": "https://localhost:8080/"
        },
        "id": "edPj27FfSIpC",
        "outputId": "66b89b90-0820-4f95-c67f-891606e999d3"
      },
      "execution_count": null,
      "outputs": [
        {
          "output_type": "stream",
          "name": "stdout",
          "text": [
            "1 2 3 4 \n",
            "- 1 2 3 \n",
            "- - 1 2 \n",
            "- - - 1 \n"
          ]
        }
      ]
    },
    {
      "cell_type": "code",
      "source": [
        "def get_lcm(a,b):\n",
        "\n",
        " print(\"result\",get_lcm)\n",
        "\n",
        "result = get_lcm(12,18)"
      ],
      "metadata": {
        "colab": {
          "base_uri": "https://localhost:8080/"
        },
        "id": "BaxNYxANXscW",
        "outputId": "5ae14292-c785-4648-ac66-073e0d4bf641"
      },
      "execution_count": null,
      "outputs": [
        {
          "output_type": "stream",
          "name": "stdout",
          "text": [
            "result <function get_lcm at 0x7ad14b5b0900>\n"
          ]
        }
      ]
    },
    {
      "cell_type": "code",
      "source": [
        "def is_armstrong(n):\n",
        "    return n == sum(int(d)**len(str(n)) for d in str(n))\n",
        "print(is_armstrong(1))\n",
        "print(is_armstrong(15))\n"
      ],
      "metadata": {
        "colab": {
          "base_uri": "https://localhost:8080/"
        },
        "id": "edw2zKYFX6Ne",
        "outputId": "705f6cd6-8dfa-4498-e23d-6aef9edb35bb"
      },
      "execution_count": null,
      "outputs": [
        {
          "output_type": "stream",
          "name": "stdout",
          "text": [
            "True\n",
            "False\n"
          ]
        }
      ]
    },
    {
      "cell_type": "code",
      "source": [
        "def func(a,b):\n",
        "  print(\"a=>\", a , \"b=> \", b)\n",
        "\n",
        "func(10,20) # position arguement\n",
        "func(20,10)\n",
        "func(b=20,a=10) #keyword arguement\n"
      ],
      "metadata": {
        "colab": {
          "base_uri": "https://localhost:8080/"
        },
        "id": "WeNKdlJMY_Ak",
        "outputId": "5eb11026-3bb8-4b65-ede2-f620392c967f"
      },
      "execution_count": null,
      "outputs": [
        {
          "output_type": "stream",
          "name": "stdout",
          "text": [
            "a=> 10 b=>  20\n",
            "a=> 20 b=>  10\n",
            "a=> 10 b=>  20\n"
          ]
        }
      ]
    }
  ]
}