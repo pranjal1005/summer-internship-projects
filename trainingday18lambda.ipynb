{
  "nbformat": 4,
  "nbformat_minor": 0,
  "metadata": {
    "colab": {
      "provenance": [],
      "authorship_tag": "ABX9TyNVUd30vxm7rOUifxUMhynE",
      "include_colab_link": true
    },
    "kernelspec": {
      "name": "python3",
      "display_name": "Python 3"
    },
    "language_info": {
      "name": "python"
    }
  },
  "cells": [
    {
      "cell_type": "markdown",
      "metadata": {
        "id": "view-in-github",
        "colab_type": "text"
      },
      "source": [
        "<a href=\"https://colab.research.google.com/github/pranjal1005/summer-internship-projects/blob/main/trainingday18lambda.ipynb\" target=\"_parent\"><img src=\"https://colab.research.google.com/assets/colab-badge.svg\" alt=\"Open In Colab\"/></a>"
      ]
    },
    {
      "cell_type": "code",
      "source": [
        "event = [{\n",
        "  'eventVersion': '2.1',\n",
        "  'eventSource': 'aws:s3',\n",
        "  'awsRegion': 'ap-south-1',\n",
        "  'eventTime': '2025-05-27T03:56:57.110Z',\n",
        "  'eventName': 'ObjectCreated:Put',\n",
        "}]"
      ],
      "metadata": {
        "id": "mmY3e3Hj7xdw"
      },
      "execution_count": null,
      "outputs": []
    },
    {
      "cell_type": "code",
      "execution_count": null,
      "metadata": {
        "id": "Osd7gU4evbp9"
      },
      "outputs": [],
      "source": [
        "record = event[0]\n"
      ]
    },
    {
      "cell_type": "code",
      "source": [
        "region = record['awsRegion']\n",
        "time = record['eventTime']\n",
        "event_name = record['eventName']\n"
      ],
      "metadata": {
        "id": "MT_H4Lmc7XtE"
      },
      "execution_count": null,
      "outputs": []
    },
    {
      "cell_type": "code",
      "source": [
        "print(region)"
      ],
      "metadata": {
        "colab": {
          "base_uri": "https://localhost:8080/"
        },
        "id": "huwq_J3-7_XJ",
        "outputId": "7245e192-dacb-458c-8069-0fc416ecd525"
      },
      "execution_count": null,
      "outputs": [
        {
          "output_type": "stream",
          "name": "stdout",
          "text": [
            "ap-south-1\n"
          ]
        }
      ]
    },
    {
      "cell_type": "code",
      "source": [
        "print(time)"
      ],
      "metadata": {
        "colab": {
          "base_uri": "https://localhost:8080/"
        },
        "id": "lzQybQiI8X-9",
        "outputId": "b06abe0e-d643-4e91-8396-1c3ecc26e7a0"
      },
      "execution_count": null,
      "outputs": [
        {
          "output_type": "stream",
          "name": "stdout",
          "text": [
            "2025-05-27T03:56:57.110Z\n"
          ]
        }
      ]
    },
    {
      "cell_type": "code",
      "source": [
        "print(event_name)"
      ],
      "metadata": {
        "colab": {
          "base_uri": "https://localhost:8080/"
        },
        "id": "lav2t68g8dxy",
        "outputId": "1d6d2fed-50f8-49f8-b151-edc74da95ed9"
      },
      "execution_count": null,
      "outputs": [
        {
          "output_type": "stream",
          "name": "stdout",
          "text": [
            "ObjectCreated:Put\n"
          ]
        }
      ]
    },
    {
      "cell_type": "code",
      "source": [
        "full_event = {'Records':\n",
        " [{'eventVersion': '2.1',\n",
        "   'eventSource': 'aws:s3',\n",
        "   'awsRegion': 'ap-south-1',\n",
        "   'eventTime': '2025-05-27T03:56:57.110Z',\n",
        "   'eventName': 'ObjectCreated:Put',\n",
        "   'userIdentity': {'principalId': 'A1FLYH11DODNQW'},\n",
        "   'requestParameters': {'sourceIPAddress': '103.59.75.231'},\n",
        "   'responseElements': {'x-amz-request-id': 'JS4V6MHQX6M19QPM',\n",
        "                        'x-amz-id-2': 'Db3nqzxkdKOZDRea97hNaxBMV5w8pjDSR9RbkVzBpfrIk9GF+Y7eI+GXkrm+CfWt5Zz1dQEbMVKQFu5CUxoRW0rw83yUOJn1'},\n",
        "    's3': {'s3SchemaVersion': '1.0',\n",
        "           'configurationId': 'be96d150-30d8-4e38-8676-e7c022aafe77',\n",
        "           'bucket': {'name': 'mycrawler-pranjal',\n",
        "                      'ownerIdentity': {'principalId': 'A1FLYH11DODNQW'},\n",
        "                      'arn': 'arn:aws:s3:::mycrawler-pranjal'},\n",
        "           'object': {'key': 'tips.csv',\n",
        "                      'size': 8006,\n",
        "                      'eTag': 'a9e6b780ba162ec7b91796b8365b7e10',\n",
        "                      'sequencer': '006835380918B04089'}}}]}"
      ],
      "metadata": {
        "id": "i4lehrdp8q-1"
      },
      "execution_count": null,
      "outputs": []
    },
    {
      "cell_type": "code",
      "source": [
        "record = full_event['Records'][0]"
      ],
      "metadata": {
        "id": "PzdWucdX9JCT"
      },
      "execution_count": null,
      "outputs": []
    },
    {
      "cell_type": "code",
      "source": [
        "region = record['awsRegion']\n",
        "time = record['eventTime']\n",
        "event_name = record['eventName']\n"
      ],
      "metadata": {
        "id": "nQq6p1fI9Lh7"
      },
      "execution_count": null,
      "outputs": []
    },
    {
      "cell_type": "code",
      "source": [
        "bucket_name = record['s3']['bucket']['name']"
      ],
      "metadata": {
        "id": "jqzWlYHz9Z8A"
      },
      "execution_count": null,
      "outputs": []
    },
    {
      "cell_type": "code",
      "source": [
        "print(bucket_name)"
      ],
      "metadata": {
        "colab": {
          "base_uri": "https://localhost:8080/"
        },
        "id": "87oiJVGI9aX7",
        "outputId": "3c353107-0a3f-4ed7-cdf1-4bdd1b203bfd"
      },
      "execution_count": null,
      "outputs": [
        {
          "output_type": "stream",
          "name": "stdout",
          "text": [
            "mycrawler-pranjal\n"
          ]
        }
      ]
    },
    {
      "cell_type": "code",
      "source": [
        "file_name = record['s3']['object']['key']"
      ],
      "metadata": {
        "id": "k0_s1_X59xLT"
      },
      "execution_count": null,
      "outputs": []
    },
    {
      "cell_type": "code",
      "source": [
        "print(file_name)"
      ],
      "metadata": {
        "colab": {
          "base_uri": "https://localhost:8080/"
        },
        "id": "5QNtn76k-Znk",
        "outputId": "2584253a-5fc0-4795-c490-c428b6ae80a3"
      },
      "execution_count": null,
      "outputs": [
        {
          "output_type": "stream",
          "name": "stdout",
          "text": [
            "tips.csv\n"
          ]
        }
      ]
    }
  ]
}